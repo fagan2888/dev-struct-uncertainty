{
 "cells": [
  {
   "cell_type": "code",
   "execution_count": 98,
   "metadata": {},
   "outputs": [],
   "source": [
    "import respy as rp\n",
    "import numpy as np\n",
    "import matplotlib.pyplot as plt\n",
    "from sqlalchemy import create_engine\n",
    "import sqlalchemy as db\n",
    "\n",
    "from estimagic.optimization.utilities import *"
   ]
  },
  {
   "cell_type": "code",
   "execution_count": 99,
   "metadata": {},
   "outputs": [],
   "source": [
    "params_corr, options, df = rp.get_example_model(\"robinson_crusoe_basic\")"
   ]
  },
  {
   "cell_type": "code",
   "execution_count": 117,
   "metadata": {},
   "outputs": [
    {
     "data": {
      "text/plain": [
       "{'sd_fishing': 'chol_fishing',\n",
       " 'sd_hammock': 'chol_hammock_fishing',\n",
       " 'corr_hammock_fishing': 'chol_hammock'}"
      ]
     },
     "execution_count": 117,
     "metadata": {},
     "output_type": "execute_result"
    }
   ],
   "source": [
    "infos = params_corr.filter(like=\"sd_\", axis=0).index.get_level_values(1).to_list()\n",
    "choices = list()\n",
    "for info in infos:\n",
    "    choices.append(info.split(\"_\")[1])\n",
    "\n",
    "final = list()\n",
    "for outer in choices:\n",
    "    for inner in choices:\n",
    "    \n",
    "        if inner == outer:\n",
    "            final.append('chol_' + outer)\n",
    "        else:\n",
    "            final.append('chol_' + outer + \"_\" + inner)\n",
    "        \n",
    "        if inner == outer:\n",
    "            break\n",
    "\n",
    " \n",
    "rename_dict = dict()\n",
    "for key_ in params_corr.loc[(\"shocks_sdcorr\", slice(None))].index:\n",
    "    rename_dict[key_] = final.pop(0)\n",
    "rename_dict\n",
    "        "
   ]
  },
  {
   "cell_type": "code",
   "execution_count": 118,
   "metadata": {},
   "outputs": [
    {
     "data": {
      "text/plain": [
       "array([[ 1. , -0.2],\n",
       "       [-0.2,  1. ]])"
      ]
     },
     "execution_count": 118,
     "metadata": {},
     "output_type": "execute_result"
    }
   ],
   "source": [
    "\n",
    "num_dim = params_corr.filter(like=\"sd_\", axis=0).shape[0]\n",
    "\n",
    "sds, corr = sdcorr_params_to_sds_and_corr(params_corr.loc[(\"shocks_sdcorr\", slice(None)), \"value\"])\n",
    "rslt = robust_cholesky(sds_and_corr_to_cov(sds, corr))\n",
    "params_chol = params_corr.rename(index={\"shocks_sdcorr\": 'shocks_chol'})\n",
    "params_chol.loc[(\"shocks_chol\", slice(None)), \"value\"] = rslt[np.tril_indices(num_dim)] \n",
    "\n",
    "params_chol.rename(index=rename_dict, inplace=True)\n",
    "sds_and_corr_to_cov(sds, corr)"
   ]
  },
  {
   "cell_type": "code",
   "execution_count": 120,
   "metadata": {},
   "outputs": [],
   "source": [
    "crit_func = rp.get_crit_func(params_corr, options, df)\n",
    "np.testing.assert_equal(crit_func(params_corr), crit_func(params_chol))"
   ]
  }
 ],
 "metadata": {
  "kernelspec": {
   "display_name": "Python 3",
   "language": "python",
   "name": "python3"
  },
  "language_info": {
   "codemirror_mode": {
    "name": "ipython",
    "version": 3
   },
   "file_extension": ".py",
   "mimetype": "text/x-python",
   "name": "python",
   "nbconvert_exporter": "python",
   "pygments_lexer": "ipython3",
   "version": "3.7.3"
  }
 },
 "nbformat": 4,
 "nbformat_minor": 4
}
